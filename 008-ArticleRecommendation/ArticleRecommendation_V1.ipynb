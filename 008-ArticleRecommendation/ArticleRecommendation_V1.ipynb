{
 "cells": [
  {
   "attachments": {},
   "cell_type": "markdown",
   "metadata": {},
   "source": [
    "# 1. Import Libraries"
   ]
  },
  {
   "cell_type": "code",
   "execution_count": 1,
   "metadata": {},
   "outputs": [],
   "source": [
    "import tensorflow as tf\n",
    "gpu = tf.config.experimental.list_physical_devices('GPU')\n",
    "tf.config.experimental.set_memory_growth(gpu[0], True)"
   ]
  },
  {
   "cell_type": "code",
   "execution_count": 21,
   "metadata": {},
   "outputs": [],
   "source": [
    "import pandas as pd\n",
    "import numpy as np\n",
    "from sklearn.feature_extraction.text import TfidfVectorizer\n",
    "from sklearn.metrics.pairwise import cosine_similarity"
   ]
  },
  {
   "attachments": {},
   "cell_type": "markdown",
   "metadata": {},
   "source": [
    "# 2. Load Data"
   ]
  },
  {
   "cell_type": "code",
   "execution_count": 5,
   "metadata": {},
   "outputs": [
    {
     "data": {
      "text/html": [
       "<div>\n",
       "<style scoped>\n",
       "    .dataframe tbody tr th:only-of-type {\n",
       "        vertical-align: middle;\n",
       "    }\n",
       "\n",
       "    .dataframe tbody tr th {\n",
       "        vertical-align: top;\n",
       "    }\n",
       "\n",
       "    .dataframe thead th {\n",
       "        text-align: right;\n",
       "    }\n",
       "</style>\n",
       "<table border=\"1\" class=\"dataframe\">\n",
       "  <thead>\n",
       "    <tr style=\"text-align: right;\">\n",
       "      <th></th>\n",
       "      <th>Article</th>\n",
       "      <th>Title</th>\n",
       "    </tr>\n",
       "  </thead>\n",
       "  <tbody>\n",
       "    <tr>\n",
       "      <th>0</th>\n",
       "      <td>Data analysis is the process of inspecting and...</td>\n",
       "      <td>Best Books to Learn Data Analysis</td>\n",
       "    </tr>\n",
       "    <tr>\n",
       "      <th>1</th>\n",
       "      <td>The performance of a machine learning algorith...</td>\n",
       "      <td>Assumptions of Machine Learning Algorithms</td>\n",
       "    </tr>\n",
       "    <tr>\n",
       "      <th>2</th>\n",
       "      <td>You must have seen the news divided into categ...</td>\n",
       "      <td>News Classification with Machine Learning</td>\n",
       "    </tr>\n",
       "    <tr>\n",
       "      <th>3</th>\n",
       "      <td>When there are only two classes in a classific...</td>\n",
       "      <td>Multiclass Classification Algorithms in Machin...</td>\n",
       "    </tr>\n",
       "    <tr>\n",
       "      <th>4</th>\n",
       "      <td>The Multinomial Naive Bayes is one of the vari...</td>\n",
       "      <td>Multinomial Naive Bayes in Machine Learning</td>\n",
       "    </tr>\n",
       "  </tbody>\n",
       "</table>\n",
       "</div>"
      ],
      "text/plain": [
       "                                             Article  \\\n",
       "0  Data analysis is the process of inspecting and...   \n",
       "1  The performance of a machine learning algorith...   \n",
       "2  You must have seen the news divided into categ...   \n",
       "3  When there are only two classes in a classific...   \n",
       "4  The Multinomial Naive Bayes is one of the vari...   \n",
       "\n",
       "                                               Title  \n",
       "0                  Best Books to Learn Data Analysis  \n",
       "1         Assumptions of Machine Learning Algorithms  \n",
       "2          News Classification with Machine Learning  \n",
       "3  Multiclass Classification Algorithms in Machin...  \n",
       "4        Multinomial Naive Bayes in Machine Learning  "
      ]
     },
     "execution_count": 5,
     "metadata": {},
     "output_type": "execute_result"
    }
   ],
   "source": [
    "data = pd.read_csv(\"https://raw.githubusercontent.com/amankharwal/Website-data/master/articles.csv\", encoding='latin1')\n",
    "data.head()"
   ]
  },
  {
   "attachments": {},
   "cell_type": "markdown",
   "metadata": {},
   "source": [
    "# 3. Cosine Similarity Algorithm"
   ]
  },
  {
   "cell_type": "code",
   "execution_count": 29,
   "metadata": {},
   "outputs": [
    {
     "name": "stdout",
     "output_type": "stream",
     "text": [
      "[32 24 21 22 20 23  7  2  5 15 26 33  1 19  4 25 27 17  9  3 13 12 29 14\n",
      " 16  8 31  6 18 30 10 28 11  0]\n",
      "[30 12  7 18 33 10  9 13 11  0 25 26  6 15  8 19 16  2  5 23 14 20 27  3\n",
      " 22  4 24 21 17 29 28 32 31  1]\n",
      "[10  6  0 12 25  9  7 33 15 19 16 23 18 11 24  4 20 29  8 26 22 32 13 30\n",
      " 17  1 21 31 28 14 27  3  2  5]\n",
      "[ 7 18  8  9 25 26 13 20 30 19 15 33 23 32 24 14 21 12 10 27 22  6  0 11\n",
      " 16  4 29  5  2  1 28 31 17  3]\n",
      "[ 9 33 26  7 10 19  8 12 13  0 16 25 15 30  2  5 27 18 28 29 11 24  6  3\n",
      " 22 17 23 21 31  1 20 14 32  4]\n",
      "[10  6  0 12 25  9  7 33 15 19 16 23 18 11 24  4 20 29  8 26 22 32 13 30\n",
      " 17  1 21 31 28 14 27  3  2  5]\n",
      "[ 7 33 26 19 15 13 24 25 17  2  5 32 20 18 21 30 16 31  1  9 27  8 22 23\n",
      "  3  4 12 11 29 14  0 10 28  6]\n",
      "[16 29  1  6  3 17  4 19  0 28 31 26 20 32 30 23 10  8 15  9 14 27 22 11\n",
      "  5  2 25 21 33 18 24 13 12  7]\n",
      "[16  3 30 32 10 12  4 15 20 21 23 19 22 29  7 28 33 25 24 26 18 13  1 11\n",
      " 14  6 17  5  2 31 27  0  9  8]\n",
      "[16 29  1  3  4 22 32 10 23 20 24 19 12 17 28 15 31 21 30 13 33  7 18  5\n",
      "  2 25 26 14  6 27  0 11  8  9]\n",
      "[32  1 24 21 22  2  5 20 19 16 26 33  8 15  9 25  4 23 17 14 27 29  7 18\n",
      " 31 30  3 13 11 12 28  0  6 10]\n",
      "[19  1 15 32 24  7 20 22 21 26  5  2  8 23 27 17 25 13 29  4  3 33  9 16\n",
      " 10  6 31 28 30 14 18 12  0 11]\n",
      "[ 1 19 22 29 32 20 17 27 24 30  8 15  9 25 26 14  4  5  2 16 21 31 23 33\n",
      " 18  3 13 28  0  6  7 10 11 12]\n",
      "[ 1 28 31  6 29 16 19 17  3 32 15  9 24  4 20 22 14 23 30 26 25 27 33 21\n",
      "  8 18  5  2 11 12  0 10  7 13]\n",
      "[10 33 12  7 30 13 25 20  9 15 23  8  3 24 26 22 19 16 17 29  0  5  2 21\n",
      " 32 18 27  1  6 31 11 28  4 14]\n",
      "[ 6 10 30 12 26  0  8 19  9 23  3 25 13 29 24 33  7 11 18 17  2  5  4 14\n",
      "  1 27 20 31 32 22 21 28 16 15]\n",
      "[ 7 33  8  9 10 26 25 13 19 20 24 18  6 12  5  2  4 21 27 30 32 23 22 14\n",
      "  1 17  3  0 11 31 29 15 28 16]\n",
      "[ 7 12  6 10 13  9 25 15 18 26 27  8 30 11 14  0 33  5  2 16 19  4 32 28\n",
      " 29 31 20  1 21  3 23 24 22 17]\n",
      "[ 1  3 16 26 19  6 10 32 27 15  9 24 17 23 21  5  2  8 20 28 29  7 13 30\n",
      " 12  4 31 22 25 14 33  0 11 18]\n",
      "[10  6 12 30 13 16 25  7 20  9 11  4 23 33 15 24  3 18 22  8 26  0 32  5\n",
      "  2 29 21 27 14  1 28 31 17 19]\n",
      "[10  0 12  9 26 16 19  8  3  6  7 25 13 33 11 14 30 27 18 15  5  2 28 29\n",
      " 31  1 32  4 17 23 21 24 22 20]\n",
      "[10  0 30  8  9  6 33 26 18 25 11 12 16 19 13  7  3 15 29  2  5 14 27  4\n",
      " 28 31 32  1 17 20 23 22 24 21]\n",
      "[10  0 12  9 26 19  8 33 25  7 13 30 11  6 14  5  2 27 16 15  3 18 28  4\n",
      " 29 32 31  1 20 21 17 23 24 22]\n",
      "[ 9 10 26  0 19  8 33 15  7 30 25  3 18 13  5  2 14 12 11 16 27  6 28 31\n",
      " 29  1 32  4 20 17 24 21 22 23]\n",
      "[10  0 30  6  9 12 26 16 19 25 15 13 18 11 29  8  5  2 33  3 14 28  7 27\n",
      " 32  4 31  1 20 23 17 21 22 24]\n",
      "[ 3 16 10  6 19 12 24 15 20 26 17 23 22  5  2  1 27  9 14 32 13  8 21  4\n",
      " 33 28  7 29 30 31  0 11 18 25]\n",
      "[ 6 10 16  4 20 23  3 22 29 24 33  7 15 12 18 30 32  0 25 19  1 21 17  9\n",
      " 13 31 11  8 28 14  5  2 27 26]\n",
      "[30 12 10 18  7 25 33 13 20 16 15  6 17 19  4 22  9  0 11 23  3  8 24 32\n",
      " 29  5  2 21 14  1 31 28 26 27]\n",
      "[13  7 30  9 33  8 25 18 26 20 24 19 23  4 12  5  2 22 17 32 21 15 11 27\n",
      "  3 10 14  0  6  1 31 16 29 28]\n",
      "[ 7  9 12 33 13 26 10  8 15 19 24 25 18 30  5  2  4 11 21 23 14 32  0 27\n",
      " 20  6 22  3 17 16  1 31 28 29]\n",
      "[ 1 24  8 33 21 19 15 27 12 28  3 26  7  9 23  6 14 32 13 22 20 10  4 25\n",
      " 16 29 31 17 18  5  2  0 11 30]\n",
      "[13  7  9 10  6 26 12 33 25 30 15 18  8 19 23 24  2  5 20 16 11  0 27  4\n",
      " 32 21 22 14  3 17 29 28  1 31]\n",
      "[10  0  8  9 12  6 33  7 26 13 18 19 11 30 25  3 16  5  2 15 27 24 29 23\n",
      " 14 17 22 28 31 21 20  1  4 32]\n",
      "[16  1  6 10 30 29  4 26 14 19 32 23  0 28 15  9 21 22  3 20 27  8  2  5\n",
      " 13 25 12 31  7 24 17 11 18 33]\n"
     ]
    },
    {
     "data": {
      "text/html": [
       "<div>\n",
       "<style scoped>\n",
       "    .dataframe tbody tr th:only-of-type {\n",
       "        vertical-align: middle;\n",
       "    }\n",
       "\n",
       "    .dataframe tbody tr th {\n",
       "        vertical-align: top;\n",
       "    }\n",
       "\n",
       "    .dataframe thead th {\n",
       "        text-align: right;\n",
       "    }\n",
       "</style>\n",
       "<table border=\"1\" class=\"dataframe\">\n",
       "  <thead>\n",
       "    <tr style=\"text-align: right;\">\n",
       "      <th></th>\n",
       "      <th>Article</th>\n",
       "      <th>Title</th>\n",
       "      <th>Recommended Articles</th>\n",
       "    </tr>\n",
       "  </thead>\n",
       "  <tbody>\n",
       "    <tr>\n",
       "      <th>0</th>\n",
       "      <td>Data analysis is the process of inspecting and...</td>\n",
       "      <td>Best Books to Learn Data Analysis</td>\n",
       "      <td>For Loop Over Keys and Values in a Python Dict...</td>\n",
       "    </tr>\n",
       "    <tr>\n",
       "      <th>1</th>\n",
       "      <td>The performance of a machine learning algorith...</td>\n",
       "      <td>Assumptions of Machine Learning Algorithms</td>\n",
       "      <td>Clustering Algorithms in Machine Learning, App...</td>\n",
       "    </tr>\n",
       "    <tr>\n",
       "      <th>2</th>\n",
       "      <td>You must have seen the news divided into categ...</td>\n",
       "      <td>News Classification with Machine Learning</td>\n",
       "      <td>Best Books to Learn Deep Learning, Language De...</td>\n",
       "    </tr>\n",
       "    <tr>\n",
       "      <th>3</th>\n",
       "      <td>When there are only two classes in a classific...</td>\n",
       "      <td>Multiclass Classification Algorithms in Machin...</td>\n",
       "      <td>News Classification with Machine Learning, Ass...</td>\n",
       "    </tr>\n",
       "    <tr>\n",
       "      <th>4</th>\n",
       "      <td>The Multinomial Naive Bayes is one of the vari...</td>\n",
       "      <td>Multinomial Naive Bayes in Machine Learning</td>\n",
       "      <td>Use Cases of Different Machine Learning Algori...</td>\n",
       "    </tr>\n",
       "  </tbody>\n",
       "</table>\n",
       "</div>"
      ],
      "text/plain": [
       "                                             Article  \\\n",
       "0  Data analysis is the process of inspecting and...   \n",
       "1  The performance of a machine learning algorith...   \n",
       "2  You must have seen the news divided into categ...   \n",
       "3  When there are only two classes in a classific...   \n",
       "4  The Multinomial Naive Bayes is one of the vari...   \n",
       "\n",
       "                                               Title  \\\n",
       "0                  Best Books to Learn Data Analysis   \n",
       "1         Assumptions of Machine Learning Algorithms   \n",
       "2          News Classification with Machine Learning   \n",
       "3  Multiclass Classification Algorithms in Machin...   \n",
       "4        Multinomial Naive Bayes in Machine Learning   \n",
       "\n",
       "                                Recommended Articles  \n",
       "0  For Loop Over Keys and Values in a Python Dict...  \n",
       "1  Clustering Algorithms in Machine Learning, App...  \n",
       "2  Best Books to Learn Deep Learning, Language De...  \n",
       "3  News Classification with Machine Learning, Ass...  \n",
       "4  Use Cases of Different Machine Learning Algori...  "
      ]
     },
     "execution_count": 29,
     "metadata": {},
     "output_type": "execute_result"
    }
   ],
   "source": [
    "articles = data[\"Article\"].tolist()\n",
    "\n",
    "uni_tfidf = TfidfVectorizer(input=articles, stop_words=\"english\")\n",
    "uni_matrix = uni_tfidf.fit_transform(articles)\n",
    "\n",
    "uni_sim = cosine_similarity(uni_matrix)\n",
    "\n",
    "def recommend_articles(x):\n",
    "    print(x.argsort())\n",
    "    return \", \".join(data[\"Title\"].loc[x.argsort()[-6:-1]]) \n",
    "\n",
    "data[\"Recommended Articles\"] = [recommend_articles(x) for x in uni_sim]\n",
    "data.head()"
   ]
  },
  {
   "cell_type": "code",
   "execution_count": 14,
   "metadata": {},
   "outputs": [
    {
     "data": {
      "text/plain": [
       "0     Introduction to Recommendation Systems, Best B...\n",
       "1     Applications of Deep Learning, Best Books to L...\n",
       "2     Language Detection with Machine Learning, Appl...\n",
       "3     Assumptions of Machine Learning Algorithms, Be...\n",
       "4     Assumptions of Machine Learning Algorithms, Me...\n",
       "5     Language Detection with Machine Learning, Appl...\n",
       "6     Language Detection with Machine Learning, Best...\n",
       "7     For Loop Over Keys and Values in a Python Dict...\n",
       "8     Use Cases of Different Machine Learning Algori...\n",
       "9     Apple Stock Price Prediction with Machine Lear...\n",
       "10    Best Python Frameworks to Build APIs, Best Boo...\n",
       "11    Language Detection with Machine Learning, For ...\n",
       "12    Best Books to Learn NLP, Send Instagram Messag...\n",
       "13    Best Python Frameworks to Build APIs, Best Boo...\n",
       "14    Use Cases of Different Machine Learning Algori...\n",
       "15    Agglomerative Clustering in Machine Learning, ...\n",
       "16    Use Cases of Different Machine Learning Algori...\n",
       "17    Multiclass Classification Algorithms in Machin...\n",
       "18    Language Detection with Machine Learning, Swap...\n",
       "19    Assumptions of Machine Learning Algorithms, Be...\n",
       "20    DBSCAN Clustering in Machine Learning, BIRCH C...\n",
       "21    Mean Shift Clustering in Machine Learning, DBS...\n",
       "22    BIRCH Clustering in Machine Learning, Clusteri...\n",
       "23    Clustering Algorithms in Machine Learning, K-M...\n",
       "24    DBSCAN Clustering in Machine Learning, Cluster...\n",
       "25    Use Cases of Different Machine Learning Algori...\n",
       "26    Language Detection with Machine Learning, News...\n",
       "27    Assumptions of Machine Learning Algorithms, Us...\n",
       "28    Assumptions of Machine Learning Algorithms, Us...\n",
       "29    Types of Neural Networks, Assumptions of Machi...\n",
       "30    News Classification with Machine Learning, New...\n",
       "31    Clustering Algorithms in Machine Learning, App...\n",
       "32    BIRCH Clustering in Machine Learning, Mean Shi...\n",
       "33    K-Means Clustering in Machine Learning, Cluste...\n",
       "Name: Recommended Articles, dtype: object"
      ]
     },
     "execution_count": 14,
     "metadata": {},
     "output_type": "execute_result"
    }
   ],
   "source": [
    "data['Recommended Articles']"
   ]
  },
  {
   "cell_type": "code",
   "execution_count": 17,
   "metadata": {},
   "outputs": [
    {
     "name": "stdout",
     "output_type": "stream",
     "text": [
      "Mean Shift Clustering in Machine Learning, BIRCH Clustering in Machine Learning, Clustering Algorithms in Machine Learning, DBSCAN Clustering in Machine Learning, K-Means Clustering in Machine Learning\n"
     ]
    }
   ],
   "source": [
    "print(data[\"Recommended Articles\"][22])"
   ]
  }
 ],
 "metadata": {
  "kernelspec": {
   "display_name": "gan",
   "language": "python",
   "name": "python3"
  },
  "language_info": {
   "codemirror_mode": {
    "name": "ipython",
    "version": 3
   },
   "file_extension": ".py",
   "mimetype": "text/x-python",
   "name": "python",
   "nbconvert_exporter": "python",
   "pygments_lexer": "ipython3",
   "version": "3.9.16"
  },
  "orig_nbformat": 4
 },
 "nbformat": 4,
 "nbformat_minor": 2
}
